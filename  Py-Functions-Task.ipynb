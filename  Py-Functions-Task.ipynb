{
 "cells": [
  {
   "cell_type": "code",
   "execution_count": 126,
   "metadata": {},
   "outputs": [],
   "source": [
    "import math"
   ]
  },
  {
   "cell_type": "code",
   "execution_count": 127,
   "metadata": {},
   "outputs": [],
   "source": [
    "def Sum(X,Y):\n",
    "    res=X+Y\n",
    "    return res"
   ]
  },
  {
   "cell_type": "code",
   "execution_count": 128,
   "metadata": {},
   "outputs": [],
   "source": [
    "List=[1,2,3,4]"
   ]
  },
  {
   "cell_type": "code",
   "execution_count": 129,
   "metadata": {},
   "outputs": [
    {
     "name": "stdout",
     "output_type": "stream",
     "text": [
      "7\n"
     ]
    }
   ],
   "source": [
    "print(Sum(2,5))"
   ]
  },
  {
   "cell_type": "code",
   "execution_count": 130,
   "metadata": {},
   "outputs": [
    {
     "name": "stdout",
     "output_type": "stream",
     "text": [
      "1,2,3,4,"
     ]
    }
   ],
   "source": [
    "for i  in range(0,len(List)):\n",
    "    print(List[i], end=\",\")"
   ]
  },
  {
   "cell_type": "code",
   "execution_count": 131,
   "metadata": {},
   "outputs": [
    {
     "name": "stdout",
     "output_type": "stream",
     "text": [
      "10\n"
     ]
    }
   ],
   "source": [
    "total=0\n",
    "for i  in range(0,len(List)):\n",
    "    total=total+List[i]\n",
    "print(total)"
   ]
  },
  {
   "cell_type": "code",
   "execution_count": 132,
   "metadata": {},
   "outputs": [
    {
     "name": "stdout",
     "output_type": "stream",
     "text": [
      "4\n"
     ]
    }
   ],
   "source": [
    "max=List[0]\n",
    "for i in range(1,len(List)):\n",
    "\n",
    "    if (max < List[i]) :        \n",
    "     max=List[i]\n",
    "    \n",
    "print(max)\n",
    "    "
   ]
  },
  {
   "cell_type": "code",
   "execution_count": 133,
   "metadata": {},
   "outputs": [
    {
     "name": "stdout",
     "output_type": "stream",
     "text": [
      "[1, 2, 3]\n"
     ]
    }
   ],
   "source": [
    "def splitList(list , index):\n",
    "     newlist =list[0:index+1]\n",
    "     return newlist\n",
    "\n",
    "DD=splitList(List,2)\n",
    "\n",
    "print(DD)"
   ]
  },
  {
   "cell_type": "code",
   "execution_count": 150,
   "metadata": {},
   "outputs": [
    {
     "name": "stdout",
     "output_type": "stream",
     "text": [
      "T\n",
      "u\n",
      "w\n",
      "a\n",
      "i\n",
      "q\n",
      "_\n",
      "A\n",
      "c\n",
      "a\n",
      "d\n",
      "e\n",
      "m\n",
      "y\n"
     ]
    }
   ],
   "source": [
    "for i in \"Tuwaiq_Academy\":\n",
    "    print(i)"
   ]
  },
  {
   "cell_type": "code",
   "execution_count": 135,
   "metadata": {},
   "outputs": [
    {
     "name": "stdout",
     "output_type": "stream",
     "text": [
      "Python\n"
     ]
    }
   ],
   "source": [
    "alist = [\"Python\", \"C++\", \"Java\"]\n",
    "for i in range(0,len(alist)):\n",
    "    if(\"C++\"== alist[i]):\n",
    "        break\n",
    "    else:\n",
    "        print(alist[i])"
   ]
  },
  {
   "cell_type": "code",
   "execution_count": 149,
   "metadata": {},
   "outputs": [
    {
     "name": "stdout",
     "output_type": "stream",
     "text": [
      "[1, 2, 3, 31, 9, 234, 8, 0, 0, 0, 0]\n"
     ]
    }
   ],
   "source": [
    "def endZeros(oldlist):\n",
    "    res=[]\n",
    "    for i in oldlist:\n",
    "        if i != 0:\n",
    "            res.append(i)\n",
    "\n",
    "    for j in range(oldlist.count(0)):\n",
    "        res.append(0)\n",
    "            \n",
    "    return res\n",
    "\n",
    "XX=[1,2,3,0,31,0,9,0,234,8,0]\n",
    "XXY= endZeros(XX)\n",
    "print(XXY)\n",
    "    "
   ]
  },
  {
   "cell_type": "markdown",
   "metadata": {},
   "source": [
    "Additional Challenge:\n"
   ]
  },
  {
   "cell_type": "code",
   "execution_count": 158,
   "metadata": {},
   "outputs": [
    {
     "name": "stdout",
     "output_type": "stream",
     "text": [
      "Morad\n"
     ]
    }
   ],
   "source": [
    "contactTable=[\n",
    "              {\"name\":\"Ahmed\",\"Phone\":\"0551112222\"}\n",
    "              ,{\"name\":\"Saad\",\"Phone\":\"0551113333\"}\n",
    "              ,{\"name\":\"Sultan\",\"Phone\":\"0551114444\"},\n",
    "              {\"name\":\"Morad\",\"Phone\":\"0551115555\"},\n",
    "              {\"name\":\"Abdullah\",\"Phone\":\"0551116666\"}\n",
    "              ] \n",
    "\n",
    "def find (phoneNum):\n",
    "    if len(phoneNum)!=10:\n",
    "        return \"This is invalid number\"\n",
    "    if not phoneNum.isdigit():\n",
    "        return \"This is invalid number\"\n",
    "    \n",
    "    for i in contactTable:\n",
    "        if i[\"Phone\"] == phoneNum:   \n",
    "            return i[\"name\"]  \n",
    "              \n",
    "    return \"Sorry, the number is not found\"\n",
    "\n",
    "print(find(input(\"enter phone number\")))"
   ]
  }
 ],
 "metadata": {
  "interpreter": {
   "hash": "aee8b7b246df8f9039afb4144a1f6fd8d2ca17a180786b69acc140d282b71a49"
  },
  "kernelspec": {
   "display_name": "Python 3.10.11 64-bit",
   "language": "python",
   "name": "python3"
  },
  "language_info": {
   "codemirror_mode": {
    "name": "ipython",
    "version": 3
   },
   "file_extension": ".py",
   "mimetype": "text/x-python",
   "name": "python",
   "nbconvert_exporter": "python",
   "pygments_lexer": "ipython3",
   "version": "3.10.11"
  },
  "orig_nbformat": 4
 },
 "nbformat": 4,
 "nbformat_minor": 2
}
